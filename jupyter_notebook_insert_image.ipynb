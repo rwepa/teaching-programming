{
 "cells": [
  {
   "attachments": {},
   "cell_type": "markdown",
   "id": "15e3dddd",
   "metadata": {},
   "source": [
    "# jupyter_notebook_insert image"
   ]
  },
  {
   "cell_type": "markdown",
   "id": "e69b8fe8",
   "metadata": {},
   "source": [
    "# 學號: 2023007168\n",
    "# 姓名: 李明昌"
   ]
  },
  {
   "cell_type": "code",
   "execution_count": 1,
   "id": "bece5c73",
   "metadata": {},
   "outputs": [],
   "source": [
    "# 下載圖片 https://github.com/rwepa/teaching-programming/blob/main/images/Konigssee.png\n",
    "\n",
    "# 將下載之 png 置於 jupyter notebook 開啟之目錄\\images 資料夾, 例: 使用者資料夾 C:\\Users\\User\\images\\Konigssee.png"
   ]
  },
  {
   "cell_type": "markdown",
   "id": "ac7c93d3",
   "metadata": {},
   "source": [
    "方法1 \\<img src=\"images/Konigssee.png\">"
   ]
  },
  {
   "cell_type": "markdown",
   "id": "c0667fdd",
   "metadata": {},
   "source": [
    "<img src=\"images/Konigssee.png\">"
   ]
  },
  {
   "cell_type": "markdown",
   "id": "86fe2a40",
   "metadata": {},
   "source": [
    "方法2 \\<img src=\"images/Konigssee.png\" width = \"300\">"
   ]
  },
  {
   "cell_type": "markdown",
   "id": "d210f954",
   "metadata": {},
   "source": [
    "<img src=\"Konigssee.png\" width = \"300\">"
   ]
  },
  {
   "cell_type": "code",
   "execution_count": 2,
   "id": "4d56e204",
   "metadata": {},
   "outputs": [],
   "source": [
    "# 方法3 ![國王湖](images/Konigssee.png)"
   ]
  },
  {
   "attachments": {},
   "cell_type": "markdown",
   "id": "027de48d",
   "metadata": {},
   "source": [
    "![國王湖](images/Konigssee.png)"
   ]
  },
  {
   "cell_type": "code",
   "execution_count": 3,
   "id": "46b451dc",
   "metadata": {},
   "outputs": [],
   "source": [
    "# end"
   ]
  }
 ],
 "metadata": {
  "kernelspec": {
   "display_name": "Python 3 (ipykernel)",
   "language": "python",
   "name": "python3"
  },
  "language_info": {
   "codemirror_mode": {
    "name": "ipython",
    "version": 3
   },
   "file_extension": ".py",
   "mimetype": "text/x-python",
   "name": "python",
   "nbconvert_exporter": "python",
   "pygments_lexer": "ipython3",
   "version": "3.9.13"
  }
 },
 "nbformat": 4,
 "nbformat_minor": 5
}
